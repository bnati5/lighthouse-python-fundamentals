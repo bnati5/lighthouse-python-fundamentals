{
 "cells": [
  {
   "cell_type": "code",
   "execution_count": 1,
   "metadata": {
    "ExecuteTime": {
     "end_time": "2020-02-05T17:54:42.062131Z",
     "start_time": "2020-02-05T17:54:41.626763Z"
    }
   },
   "outputs": [],
   "source": [
    "# import numpy\n",
    "import numpy as np\n",
    "\n",
    "# import matplotlib.pyplot\n",
    "import matplotlib.pyplot as plt\n",
    "\n",
    "# import Counter\n",
    "from collections import Counter\n",
    "\n",
    "# use style 'fivethirtyeight' (optional)\n",
    "plt.style.use('fivethirtyeight')"
   ]
  },
  {
   "cell_type": "markdown",
   "metadata": {
    "ExecuteTime": {
     "end_time": "2020-02-05T17:54:42.113199Z",
     "start_time": "2020-02-05T17:54:42.101587Z"
    }
   },
   "source": [
    "#### Create function `perform_bernouli_trial` with parameters n and p\n",
    "\n",
    "PARAMS:\n",
    "- n (int) - number of trials\n",
    "- p (float) - probability of success\n",
    "\n",
    "RETURNS:\n",
    "- n_success (int) - number of successes"
   ]
  },
  {
   "cell_type": "code",
   "execution_count": 9,
   "metadata": {},
   "outputs": [],
   "source": [
    "def perform_bernoulli_trials(n,p):\n",
    "    # Initialize number of successes: n_success\n",
    "    n_success = 0\n",
    "    \n",
    "    # Perform trials\n",
    "    for i in range(n):\n",
    "        # Choose random number between zero and one\n",
    "        rand = np.random.random()\n",
    "\n",
    "        # If less than p, it's a success so add one to n_success\n",
    "        if rand < p:\n",
    "            n_success+=1\n",
    "            \n",
    "    return n_success"
   ]
  },
  {
   "cell_type": "code",
   "execution_count": null,
   "metadata": {},
   "outputs": [],
   "source": []
  },
  {
   "cell_type": "markdown",
   "metadata": {
    "ExecuteTime": {
     "end_time": "2020-02-05T17:54:42.610756Z",
     "start_time": "2020-02-05T17:54:42.602316Z"
    }
   },
   "source": [
    "#### Use function `perform_bernoulli_trials` with inputs n = 100, p = 0.5"
   ]
  },
  {
   "cell_type": "code",
   "execution_count": 10,
   "metadata": {},
   "outputs": [
    {
     "data": {
      "text/plain": [
       "51"
      ]
     },
     "execution_count": 10,
     "metadata": {},
     "output_type": "execute_result"
    }
   ],
   "source": [
    "perform_bernoulli_trials(100,0.5)"
   ]
  },
  {
   "cell_type": "code",
   "execution_count": null,
   "metadata": {},
   "outputs": [],
   "source": []
  },
  {
   "cell_type": "markdown",
   "metadata": {
    "ExecuteTime": {
     "end_time": "2020-02-05T17:54:43.020097Z",
     "start_time": "2020-02-05T17:54:42.962800Z"
    }
   },
   "source": [
    "#### Call function _perform_bernoulli_trials_ 1000-times with same parameters as before and store the result in `successes_list`"
   ]
  },
  {
   "cell_type": "code",
   "execution_count": 27,
   "metadata": {},
   "outputs": [
    {
     "name": "stdout",
     "output_type": "stream",
     "text": [
      "[60, 43, 46, 48, 53, 52, 47, 40, 56, 41, 55, 55, 44, 41, 59, 45, 54, 43, 48, 51, 57, 50, 57, 45, 43, 53, 45, 49, 59, 52, 54, 50, 49, 47, 50, 51, 50, 54, 58, 45, 52, 51, 56, 62, 40, 45, 61, 50, 44, 58, 56, 49, 53, 52, 44, 50, 45, 50, 43, 51, 50, 49, 54, 51, 56, 49, 51, 47, 48, 53, 43, 44, 54, 48, 50, 49, 55, 46, 49, 50, 47, 42, 52, 47, 53, 43, 43, 51, 48, 51, 45, 49, 42, 51, 57, 58, 59, 47, 56, 52, 46, 53, 41, 54, 51, 50, 45, 44, 45, 55, 47, 52, 55, 49, 57, 59, 48, 48, 45, 50, 56, 47, 58, 49, 49, 58, 47, 49, 56, 49, 49, 54, 52, 42, 41, 40, 52, 48, 49, 54, 51, 50, 57, 42, 45, 53, 41, 40, 58, 55, 55, 54, 42, 59, 42, 48, 53, 39, 54, 52, 48, 52, 46, 49, 50, 46, 53, 49, 49, 57, 56, 48, 44, 46, 49, 47, 54, 55, 48, 55, 42, 54, 42, 55, 45, 47, 49, 47, 46, 53, 45, 49, 60, 38, 47, 48, 51, 54, 51, 51, 44, 37, 48, 40, 56, 37, 47, 49, 60, 55, 43, 55, 49, 50, 55, 40, 42, 47, 49, 54, 53, 47, 51, 51, 38, 53, 54, 52, 54, 51, 41, 43, 50, 42, 57, 59, 49, 64, 55, 55, 57, 62, 50, 40, 48, 52, 50, 41, 44, 47, 55, 49, 55, 47, 56, 56, 41, 49, 57, 50, 52, 54, 52, 49, 56, 53, 60, 51, 51, 46, 52, 44, 42, 58, 50, 62, 57, 47, 45, 53, 51, 51, 47, 52, 46, 47, 56, 58, 53, 49, 48, 49, 56, 56, 48, 54, 54, 54, 45, 56, 51, 50, 39, 44, 53, 48, 54, 50, 52, 47, 51, 37, 45, 46, 44, 49, 50, 48, 46, 49, 56, 50, 45, 51, 57, 44, 58, 60, 43, 57, 47, 48, 45, 49, 50, 44, 45, 54, 48, 48, 54, 45, 51, 46, 53, 52, 50, 53, 55, 51, 45, 44, 45, 53, 47, 54, 54, 47, 45, 57, 53, 46, 51, 65, 40, 47, 45, 47, 52, 53, 40, 51, 42, 50, 49, 57, 50, 48, 48, 51, 51, 38, 47, 52, 60, 49, 38, 55, 50, 49, 50, 52, 50, 44, 57, 56, 39, 55, 41, 51, 51, 47, 50, 41, 51, 45, 50, 51, 52, 60, 46, 52, 51, 60, 51, 41, 48, 44, 47, 54, 55, 51, 55, 54, 47, 48, 61, 45, 49, 50, 51, 50, 47, 52, 46, 46, 45, 47, 45, 43, 48, 54, 54, 48, 53, 54, 52, 47, 51, 44, 53, 59, 50, 48, 47, 49, 50, 51, 51, 43, 43, 57, 47, 45, 55, 57, 54, 55, 52, 44, 60, 60, 47, 50, 54, 41, 51, 42, 47, 53, 50, 42, 45, 52, 54, 42, 47, 50, 47, 57, 52, 54, 54, 50, 50, 51, 47, 49, 49, 55, 48, 47, 54, 54, 46, 51, 53, 44, 43, 50, 48, 48, 51, 49, 45, 47, 45, 42, 50, 47, 44, 44, 46, 48, 54, 58, 49, 42, 41, 56, 48, 61, 53, 58, 56, 49, 45, 53, 54, 53, 53, 48, 56, 48, 52, 48, 53, 48, 53, 48, 40, 50, 45, 49, 55, 49, 42, 53, 50, 52, 47, 43, 49, 50, 53, 47, 56, 57, 53, 50, 40, 52, 50, 50, 42, 54, 52, 57, 48, 48, 52, 48, 55, 48, 38, 54, 49, 44, 46, 55, 48, 49, 59, 45, 49, 50, 46, 47, 51, 61, 58, 53, 54, 49, 57, 59, 48, 44, 43, 44, 48, 55, 57, 51, 49, 51, 53, 48, 50, 46, 48, 51, 51, 45, 53, 58, 33, 51, 57, 55, 56, 48, 43, 39, 46, 57, 51, 51, 48, 45, 50, 53, 50, 53, 47, 51, 53, 48, 55, 49, 48, 50, 52, 54, 54, 55, 59, 47, 45, 60, 49, 54, 39, 55, 51, 56, 57, 40, 52, 51, 54, 48, 47, 54, 49, 53, 52, 52, 40, 49, 48, 45, 56, 50, 53, 48, 51, 44, 52, 43, 58, 58, 53, 57, 54, 49, 49, 54, 48, 42, 46, 40, 58, 51, 51, 60, 53, 47, 51, 45, 46, 53, 52, 48, 41, 50, 52, 47, 52, 41, 55, 48, 48, 45, 55, 48, 48, 55, 47, 54, 50, 49, 47, 52, 52, 52, 53, 42, 47, 60, 50, 46, 53, 52, 44, 48, 57, 49, 50, 48, 45, 54, 48, 53, 46, 49, 46, 49, 52, 47, 54, 53, 51, 44, 53, 51, 58, 47, 48, 49, 57, 51, 47, 57, 55, 53, 47, 42, 48, 39, 53, 49, 46, 53, 48, 47, 53, 41, 45, 53, 47, 50, 42, 47, 53, 51, 47, 56, 54, 51, 50, 42, 53, 46, 46, 43, 43, 54, 56, 50, 55, 49, 54, 53, 58, 43, 50, 51, 40, 44, 46, 51, 47, 55, 56, 48, 58, 58, 48, 49, 44, 50, 50, 48, 56, 46, 49, 44, 52, 45, 48, 44, 44, 49, 56, 51, 49, 57, 48, 57, 59, 43, 45, 55, 49, 54, 45, 53, 53, 57, 47, 41, 48, 55, 49, 54, 50, 58, 51, 50, 51, 48, 51, 50, 60, 51, 46, 53, 44, 50, 49, 50, 53, 57, 42, 50, 57, 53, 61, 58, 41, 53, 52, 46, 48, 49, 45, 47, 49, 49, 42, 45, 49, 41, 55, 44, 52, 57, 49, 50, 52, 52, 56, 44, 51, 47, 53, 47, 55, 60, 52, 45, 57, 43, 39, 50, 46, 46, 51, 44, 51, 49, 47, 52, 59, 54, 51, 58, 51, 48, 54, 46, 48, 51, 47, 58, 54, 45, 46, 48, 46, 51, 56, 36, 42, 49, 52, 58, 50, 48, 44, 48, 56, 45, 50, 44, 38, 60, 42, 46, 60, 46, 51, 55, 49, 47, 45, 48, 50, 57, 56, 51, 52, 54, 56, 45, 53, 61, 56, 55, 43, 48, 56, 41, 61, 45, 53, 48, 49, 44]\n"
     ]
    }
   ],
   "source": [
    "successes_list = [perform_bernoulli_trials(100,0.5) for i in range(1000)]\n",
    "    \n",
    "print(successes_list)"
   ]
  },
  {
   "cell_type": "code",
   "execution_count": null,
   "metadata": {},
   "outputs": [],
   "source": []
  },
  {
   "cell_type": "markdown",
   "metadata": {
    "ExecuteTime": {
     "end_time": "2020-02-05T17:54:43.296477Z",
     "start_time": "2020-02-05T17:54:43.289959Z"
    }
   },
   "source": [
    "#### Count occurence of each number from `successes_list` using Counter and store the result in `count_occurence`\n",
    "\n",
    "You can find for more info about Counter [**here**](https://docs.python.org/2/library/collections.html#collections.Counter)."
   ]
  },
  {
   "cell_type": "code",
   "execution_count": 35,
   "metadata": {},
   "outputs": [
    {
     "name": "stdout",
     "output_type": "stream",
     "text": [
      "Counter({48: 83, 51: 81, 49: 80, 50: 77, 47: 71, 53: 67, 54: 61, 52: 56, 45: 54, 55: 45, 46: 41, 44: 39, 56: 37, 57: 37, 42: 28, 58: 25, 43: 24, 41: 20, 60: 17, 40: 15, 59: 12, 61: 7, 39: 7, 38: 6, 62: 3, 37: 3, 64: 1, 65: 1, 33: 1, 36: 1})\n"
     ]
    }
   ],
   "source": [
    "count_occurence = Counter(successes_list)\n",
    "print(count_occurence)"
   ]
  },
  {
   "cell_type": "code",
   "execution_count": null,
   "metadata": {},
   "outputs": [],
   "source": []
  },
  {
   "cell_type": "markdown",
   "metadata": {
    "ExecuteTime": {
     "end_time": "2020-02-05T17:54:43.571225Z",
     "start_time": "2020-02-05T17:54:43.568147Z"
    }
   },
   "source": [
    "#### Count the probability for each number from `count_occurence` and store the result in `probas`\n"
   ]
  },
  {
   "cell_type": "code",
   "execution_count": 36,
   "metadata": {},
   "outputs": [
    {
     "name": "stdout",
     "output_type": "stream",
     "text": [
      "[0.017, 0.024, 0.041, 0.083, 0.067, 0.056, 0.071, 0.015, 0.037, 0.02, 0.045, 0.039, 0.012, 0.054, 0.061, 0.081, 0.037, 0.077, 0.08, 0.025, 0.003, 0.007, 0.028, 0.007, 0.006, 0.003, 0.001, 0.001, 0.001, 0.001]\n"
     ]
    }
   ],
   "source": [
    "probas = [val/len(successes_list) for val in count_occurence.values()]\n",
    "print(probas)"
   ]
  },
  {
   "cell_type": "code",
   "execution_count": null,
   "metadata": {},
   "outputs": [],
   "source": []
  },
  {
   "cell_type": "markdown",
   "metadata": {},
   "source": [
    "Below you have some information about how to do plots in Python. We will be covering all of this during the bootcamp. But you can find these basics here so we can visualize the distributions."
   ]
  },
  {
   "cell_type": "code",
   "execution_count": 37,
   "metadata": {
    "ExecuteTime": {
     "end_time": "2020-02-05T17:54:44.056628Z",
     "start_time": "2020-02-05T17:54:43.850076Z"
    }
   },
   "outputs": [
    {
     "data": {
      "image/png": "[encoded data removed]",
      "text/plain": [
       "<Figure size 432x288 with 1 Axes>"
      ]
     },
     "metadata": {},
     "output_type": "display_data"
    }
   ],
   "source": [
    "# plot distribution (PMF) of 'succes_list'\n",
    "plt.scatter(x=count_occurence.keys(), y=probas)\n",
    "plt.xlabel('number of succeess out of 100')\n",
    "plt.ylabel('probability')\n",
    "# Show the plot\n",
    "plt.show()"
   ]
  },
  {
   "cell_type": "markdown",
   "metadata": {
    "ExecuteTime": {
     "end_time": "2020-02-05T17:54:44.112264Z",
     "start_time": "2020-02-05T17:54:44.096570Z"
    }
   },
   "source": [
    "#### Generate 100000 numbers from uniform distribution with parameters a = 1, b = 6\n"
   ]
  },
  {
   "cell_type": "code",
   "execution_count": 47,
   "metadata": {},
   "outputs": [],
   "source": [
    "uniform = np.random.uniform(1,6,100000)"
   ]
  },
  {
   "cell_type": "code",
   "execution_count": null,
   "metadata": {},
   "outputs": [],
   "source": []
  },
  {
   "cell_type": "code",
   "execution_count": null,
   "metadata": {
    "ExecuteTime": {
     "end_time": "2020-02-05T17:54:44.515039Z",
     "start_time": "2020-02-05T17:54:44.330746Z"
    }
   },
   "outputs": [],
   "source": []
  },
  {
   "cell_type": "markdown",
   "metadata": {
    "ExecuteTime": {
     "end_time": "2020-02-05T17:54:44.583762Z",
     "start_time": "2020-02-05T17:54:44.555162Z"
    }
   },
   "source": [
    "#### Check the mean of uniform data (using NumPy)"
   ]
  },
  {
   "cell_type": "code",
   "execution_count": 48,
   "metadata": {},
   "outputs": [
    {
     "data": {
      "text/plain": [
       "3.502727158506132"
      ]
     },
     "execution_count": 48,
     "metadata": {},
     "output_type": "execute_result"
    }
   ],
   "source": [
    "np.mean(uniform)"
   ]
  },
  {
   "cell_type": "code",
   "execution_count": null,
   "metadata": {},
   "outputs": [],
   "source": []
  },
  {
   "cell_type": "markdown",
   "metadata": {
    "ExecuteTime": {
     "end_time": "2020-02-05T17:54:44.758510Z",
     "start_time": "2020-02-05T17:54:44.752087Z"
    }
   },
   "source": [
    "#### Generate 100000 numbers from exponential distribution with parameter beta = 0.5"
   ]
  },
  {
   "cell_type": "code",
   "execution_count": 43,
   "metadata": {},
   "outputs": [],
   "source": [
    "exp_rand = np.random.exponential(0.5,100000)"
   ]
  },
  {
   "cell_type": "code",
   "execution_count": null,
   "metadata": {},
   "outputs": [],
   "source": []
  },
  {
   "cell_type": "markdown",
   "metadata": {
    "ExecuteTime": {
     "end_time": "2020-02-05T17:54:45.134091Z",
     "start_time": "2020-02-05T17:54:44.956351Z"
    }
   },
   "source": [
    "#### Plot histogram of exponential distribution with params `density=True`, `bins=100`\n"
   ]
  },
  {
   "cell_type": "code",
   "execution_count": 50,
   "metadata": {},
   "outputs": [
    {
     "data": {
      "text/plain": [
       "(array([1.88391096e+00, 1.69817861e+00, 1.53485568e+00, 1.36127759e+00,\n",
       "        1.26366366e+00, 1.10945643e+00, 1.01355169e+00, 8.98086180e-01,\n",
       "        8.19843104e-01, 7.34763255e-01, 6.65445967e-01, 5.89101994e-01,\n",
       "        5.39345475e-01, 5.01173489e-01, 4.54835357e-01, 3.84378606e-01,\n",
       "        3.53803035e-01, 3.20188898e-01, 2.79168257e-01, 2.66824082e-01,\n",
       "        2.37577884e-01, 2.03204105e-01, 1.84213067e-01, 1.75667100e-01,\n",
       "        1.53827407e-01, 1.38064845e-01, 1.13946227e-01, 1.07109454e-01,\n",
       "        1.02361694e-01, 8.56495807e-02, 8.67890430e-02, 7.10264816e-02,\n",
       "        7.21659439e-02, 5.71630240e-02, 5.18455334e-02, 4.72876843e-02,\n",
       "        4.02610003e-02, 3.60829719e-02, 3.60829719e-02, 3.19049436e-02,\n",
       "        3.01957502e-02, 2.67773634e-02, 2.35488869e-02, 2.33589766e-02,\n",
       "        1.46230992e-02, 1.53827407e-02, 1.59524718e-02, 1.51928303e-02,\n",
       "        1.21542642e-02, 9.11569817e-03, 1.17744435e-02, 7.40650476e-03,\n",
       "        8.92578779e-03, 7.21659439e-03, 6.26704249e-03, 5.12758022e-03,\n",
       "        4.74775946e-03, 5.50740098e-03, 3.98811795e-03, 3.98811795e-03,\n",
       "        1.89910379e-03, 3.79820757e-03, 4.17802833e-03, 2.46883492e-03,\n",
       "        1.32937265e-03, 1.51928303e-03, 2.27892454e-03, 9.49551893e-04,\n",
       "        1.70919341e-03, 7.59641514e-04, 9.49551893e-04, 1.13946227e-03,\n",
       "        1.13946227e-03, 1.89910379e-03, 9.49551893e-04, 5.69731136e-04,\n",
       "        1.13946227e-03, 3.79820757e-04, 1.89910379e-04, 3.79820757e-04,\n",
       "        5.69731136e-04, 1.89910379e-04, 3.79820757e-04, 9.49551893e-04,\n",
       "        3.79820757e-04, 1.89910379e-04, 0.00000000e+00, 7.59641514e-04,\n",
       "        1.89910379e-04, 1.89910379e-04, 7.59641514e-04, 3.79820757e-04,\n",
       "        1.89910379e-04, 0.00000000e+00, 1.89910379e-04, 1.89910379e-04,\n",
       "        3.79820757e-04, 0.00000000e+00, 0.00000000e+00, 1.89910379e-04]),\n",
       " array([1.62132493e-05, 5.26726298e-02, 1.05329046e-01, 1.57985463e-01,\n",
       "        2.10641879e-01, 2.63298296e-01, 3.15954713e-01, 3.68611129e-01,\n",
       "        4.21267546e-01, 4.73923962e-01, 5.26580379e-01, 5.79236795e-01,\n",
       "        6.31893212e-01, 6.84549628e-01, 7.37206045e-01, 7.89862461e-01,\n",
       "        8.42518878e-01, 8.95175294e-01, 9.47831711e-01, 1.00048813e+00,\n",
       "        1.05314454e+00, 1.10580096e+00, 1.15845738e+00, 1.21111379e+00,\n",
       "        1.26377021e+00, 1.31642663e+00, 1.36908304e+00, 1.42173946e+00,\n",
       "        1.47439588e+00, 1.52705229e+00, 1.57970871e+00, 1.63236513e+00,\n",
       "        1.68502154e+00, 1.73767796e+00, 1.79033438e+00, 1.84299079e+00,\n",
       "        1.89564721e+00, 1.94830363e+00, 2.00096004e+00, 2.05361646e+00,\n",
       "        2.10627287e+00, 2.15892929e+00, 2.21158571e+00, 2.26424212e+00,\n",
       "        2.31689854e+00, 2.36955496e+00, 2.42221137e+00, 2.47486779e+00,\n",
       "        2.52752421e+00, 2.58018062e+00, 2.63283704e+00, 2.68549346e+00,\n",
       "        2.73814987e+00, 2.79080629e+00, 2.84346271e+00, 2.89611912e+00,\n",
       "        2.94877554e+00, 3.00143196e+00, 3.05408837e+00, 3.10674479e+00,\n",
       "        3.15940121e+00, 3.21205762e+00, 3.26471404e+00, 3.31737046e+00,\n",
       "        3.37002687e+00, 3.42268329e+00, 3.47533971e+00, 3.52799612e+00,\n",
       "        3.58065254e+00, 3.63330895e+00, 3.68596537e+00, 3.73862179e+00,\n",
       "        3.79127820e+00, 3.84393462e+00, 3.89659104e+00, 3.94924745e+00,\n",
       "        4.00190387e+00, 4.05456029e+00, 4.10721670e+00, 4.15987312e+00,\n",
       "        4.21252954e+00, 4.26518595e+00, 4.31784237e+00, 4.37049879e+00,\n",
       "        4.42315520e+00, 4.47581162e+00, 4.52846804e+00, 4.58112445e+00,\n",
       "        4.63378087e+00, 4.68643729e+00, 4.73909370e+00, 4.79175012e+00,\n",
       "        4.84440654e+00, 4.89706295e+00, 4.94971937e+00, 5.00237578e+00,\n",
       "        5.05503220e+00, 5.10768862e+00, 5.16034503e+00, 5.21300145e+00,\n",
       "        5.26565787e+00]),\n",
       " <a list of 100 Patch objects>)"
      ]
     },
     "execution_count": 50,
     "metadata": {},
     "output_type": "execute_result"
    },
    {
     "data": {
      "image/png": "[encoded data removed]",
      "text/plain": [
       "<Figure size 432x288 with 1 Axes>"
      ]
     },
     "metadata": {},
     "output_type": "display_data"
    }
   ],
   "source": [
    "plt.hist(exp_rand,density=True,bins=100)"
   ]
  },
  {
   "cell_type": "code",
   "execution_count": null,
   "metadata": {},
   "outputs": [],
   "source": []
  },
  {
   "cell_type": "markdown",
   "metadata": {
    "ExecuteTime": {
     "end_time": "2020-02-05T17:54:45.187080Z",
     "start_time": "2020-02-05T17:54:45.171406Z"
    }
   },
   "source": [
    "#### Check the mean of exponential data"
   ]
  },
  {
   "cell_type": "code",
   "execution_count": 51,
   "metadata": {},
   "outputs": [
    {
     "data": {
      "text/plain": [
       "0.5021959806169066"
      ]
     },
     "execution_count": 51,
     "metadata": {},
     "output_type": "execute_result"
    }
   ],
   "source": [
    "np.mean(exp_rand)"
   ]
  },
  {
   "cell_type": "code",
   "execution_count": null,
   "metadata": {},
   "outputs": [],
   "source": []
  }
 ],
 "metadata": {
  "kernelspec": {
   "display_name": "Python 3",
   "language": "python",
   "name": "python3"
  },
  "language_info": {
   "codemirror_mode": {
    "name": "ipython",
    "version": 3
   },
   "file_extension": ".py",
   "mimetype": "text/x-python",
   "name": "python",
   "nbconvert_exporter": "python",
   "pygments_lexer": "ipython3",
   "version": "3.8.3"
  },
  "toc": {
   "base_numbering": 1,
   "nav_menu": {},
   "number_sections": true,
   "sideBar": true,
   "skip_h1_title": false,
   "title_cell": "Table of Contents",
   "title_sidebar": "Contents",
   "toc_cell": false,
   "toc_position": {},
   "toc_section_display": true,
   "toc_window_display": false
  },
  "varInspector": {
   "cols": {
    "lenName": 16,
    "lenType": 16,
    "lenVar": 40
   },
   "kernels_config": {
    "python": {
     "delete_cmd_postfix": "",
     "delete_cmd_prefix": "del ",
     "library": "var_list.py",
     "varRefreshCmd": "print(var_dic_list())"
    },
    "r": {
     "delete_cmd_postfix": ") ",
     "delete_cmd_prefix": "rm(",
     "library": "var_list.r",
     "varRefreshCmd": "cat(var_dic_list()) "
    }
   },
   "types_to_exclude": [
    "module",
    "function",
    "builtin_function_or_method",
    "instance",
    "_Feature"
   ],
   "window_display": false
  }
 },
 "nbformat": 4,
 "nbformat_minor": 4
}
